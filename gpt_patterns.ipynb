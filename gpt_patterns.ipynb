{
 "cells": [
  {
   "cell_type": "code",
   "execution_count": 2,
   "metadata": {},
   "outputs": [],
   "source": [
    "from scorer import GPTHypernymySuiteModel, HFLMScorer\n",
    "import pandas as pd\n",
    "import numpy as np\n",
    "import os\n",
    "from hypernymysuite.evaluation import all_evaluations\n",
    "from tqdm import tqdm\n",
    "import gensim\n",
    "from leven import levenshtein\n",
    "from nltk.corpus import wordnet as wn"
   ]
  },
  {
   "cell_type": "code",
   "execution_count": 3,
   "metadata": {},
   "outputs": [],
   "source": [
    "def print_res_table(res, return_mean=False):\n",
    "    metrics = []\n",
    "    metrics.append(res['siege_bless']['other']['ap_test_inv'])\n",
    "    metrics.append(res['siege_eval']['other']['ap_test_inv'])\n",
    "    metrics.append(res['siege_leds']['other']['ap_test_inv'])\n",
    "    metrics.append(res['siege_shwartz']['other']['ap_test_inv'])\n",
    "    metrics.append(res['siege_weeds']['other']['ap_test_inv'])\n",
    "\n",
    "    metrics.append(res['dir_dbless']['acc_test_inv'])\n",
    "    metrics.append(res['dir_wbless']['acc_test_inv'])\n",
    "    metrics.append(res['dir_bibless']['acc_test_inv'])\n",
    "\n",
    "    metrics.append(res['cor_hyperlex']['rho_test_inv'])\n",
    "    mean = np.mean(metrics)\n",
    "    metrics.append(mean)\n",
    "    metrics = [f'{val:.2f}'.replace('.', ',') for val in metrics]\n",
    "    if return_mean:\n",
    "        return ' '.join(metrics), mean\n",
    "    return ' '.join(metrics)\n"
   ]
  },
  {
   "cell_type": "code",
   "execution_count": 4,
   "metadata": {},
   "outputs": [
    {
     "data": {
      "application/vnd.jupyter.widget-view+json": {
       "model_id": "4d2b5e5f732e4dfaaa478d81593dd410",
       "version_major": 2,
       "version_minor": 0
      },
      "text/plain": [
       "Downloading:   0%|          | 0.00/787 [00:00<?, ?B/s]"
      ]
     },
     "metadata": {},
     "output_type": "display_data"
    },
    {
     "data": {
      "application/vnd.jupyter.widget-view+json": {
       "model_id": "1e9d2bf5e47e4322aeb8943d672edadc",
       "version_major": 2,
       "version_minor": 0
      },
      "text/plain": [
       "Downloading:   0%|          | 0.00/6.43G [00:00<?, ?B/s]"
      ]
     },
     "metadata": {},
     "output_type": "display_data"
    },
    {
     "data": {
      "application/vnd.jupyter.widget-view+json": {
       "model_id": "f6eae80c412548da9b6f00d5a2c94cf3",
       "version_major": 2,
       "version_minor": 0
      },
      "text/plain": [
       "Downloading:   0%|          | 0.00/1.04M [00:00<?, ?B/s]"
      ]
     },
     "metadata": {},
     "output_type": "display_data"
    },
    {
     "data": {
      "application/vnd.jupyter.widget-view+json": {
       "model_id": "8e360b7a48bb46ef9f72e2e3dcf47853",
       "version_major": 2,
       "version_minor": 0
      },
      "text/plain": [
       "Downloading:   0%|          | 0.00/456k [00:00<?, ?B/s]"
      ]
     },
     "metadata": {},
     "output_type": "display_data"
    }
   ],
   "source": [
    "model_name = 'gpt2-xl'\n",
    "device = 'cuda'\n",
    "scorer = HFLMScorer(model_name, device)"
   ]
  },
  {
   "cell_type": "code",
   "execution_count": 5,
   "metadata": {},
   "outputs": [],
   "source": [
    "eval_data_dir = 'data'"
   ]
  },
  {
   "cell_type": "code",
   "execution_count": 6,
   "metadata": {},
   "outputs": [],
   "source": [
    "vocab = {}\n",
    "vocab['<OOV>'] = 1\n",
    "for file_name in os.listdir(eval_data_dir):\n",
    "    file_path = os.path.join(eval_data_dir, file_name)\n",
    "    df = pd.read_csv(file_path, sep='\\t')\n",
    "    for w in df['word1']:\n",
    "        vocab[w] = 1\n",
    "    for w in df['word2']:\n",
    "        vocab[w] = 1"
   ]
  },
  {
   "attachments": {},
   "cell_type": "markdown",
   "metadata": {},
   "source": [
    "## HYPERNYMY PATTERNS"
   ]
  },
  {
   "cell_type": "code",
   "execution_count": 7,
   "metadata": {},
   "outputs": [],
   "source": [
    "PROMPTS = {\n",
    "    'gen': [\"<hyper> is more general than <hypo>\"],\n",
    "    'spec': [\"<hypo> is more specific than <hyper>\"],\n",
    "    'type': [\"<hypo> is a type of <hyper>\"],\n",
    "    'hyper1': [\"<hypo> which is a (example|class|kind|. . . ) of <hyper>\"],\n",
    "    'hyper2': [\"<hypo> which is a example of <hyper>\"],\n",
    "    'hyper3': [\"<hypo> which is a class of <hyper>\"],\n",
    "    'hyper4': [\"<hypo> which is a kind of <hyper>\"],\n",
    "    'hyper5': [\"<hypo> which is a type of <hyper>\"],\n",
    "    'hyper6': [\"<hypo> (and|or) (any|some) other <hyper>\"],\n",
    "    'hyper7': [\"<hypo> and any other <hyper>\"],\n",
    "    'hyper8': [\"<hypo> and some other <hyper>\"],\n",
    "    'hyper9': [\"<hypo> or any other <hyper>\"],\n",
    "    'hyper10': [\"<hypo> or some other <hyper>\"],\n",
    "    'hyper11': [\"<hypo> which is called <hyper>\"],\n",
    "    'hyper12': [\"<hypo> a special case of <hyper>\"],\n",
    "    'hyper13': [\"<hypo> is an <hyper> that\"],\n",
    "    'hyper14': [\"(Unlike|like) (most|all|any|other) <hyper>, <hypo>\"],\n",
    "    'hyper15': [\"unlike most <hyper>, <hypo>\"],\n",
    "    'hyper16': [\"unlike all <hyper>, <hypo>\"],\n",
    "    'hyper17': [\"unlike any <hyper>, <hypo>\"],\n",
    "    'hyper18': [\"unlike other <hyper>, <hypo>\"],\n",
    "    'hyper19': [\"like most <hyper>, <hypo>\"],\n",
    "    'hyper20': [\"like all <hyper>, <hypo>\"],\n",
    "    'hyper21': [\"like any <hyper>, <hypo>\"],\n",
    "    'hyper22': [\"like other <hyper>, <hypo>\"],\n",
    "    'hyper23': [\"<hyper> including <hypo>\"],\n",
    "    'hyper24': [\"such <hyper> as <hypo>\"],\n",
    "}"
   ]
  },
  {
   "cell_type": "code",
   "execution_count": 7,
   "metadata": {},
   "outputs": [
    {
     "name": "stdout",
     "output_type": "stream",
     "text": [
      "['<hypo> or some other <hyper>', 'such <hyper> as <hypo>']\n"
     ]
    }
   ],
   "source": [
    "patterns = PROMPTS['hyper10'] + PROMPTS['hyper24']\n",
    "print(patterns)\n",
    "hs_model = GPTHypernymySuiteModel(scorer, patterns, vocab)"
   ]
  },
  {
   "cell_type": "code",
   "execution_count": 11,
   "metadata": {},
   "outputs": [
    {
     "name": "stderr",
     "output_type": "stream",
     "text": [
      "100%|██████████| 53/53 [00:06<00:00,  7.61it/s]\n",
      "100%|██████████| 53/53 [00:05<00:00,  9.19it/s]\n",
      "100%|██████████| 53/53 [00:06<00:00,  7.79it/s]\n",
      "100%|██████████| 53/53 [00:05<00:00,  9.36it/s]\n",
      "100%|██████████| 53/53 [00:06<00:00,  7.65it/s]\n",
      "100%|██████████| 53/53 [00:05<00:00,  9.36it/s]\n",
      "100%|██████████| 42/42 [00:05<00:00,  7.49it/s]\n",
      "100%|██████████| 42/42 [00:04<00:00,  8.91it/s]\n",
      "100%|██████████| 42/42 [00:05<00:00,  7.38it/s]\n",
      "100%|██████████| 42/42 [00:04<00:00,  8.91it/s]\n",
      "100%|██████████| 68/68 [00:08<00:00,  7.90it/s]\n",
      "100%|██████████| 68/68 [00:07<00:00,  9.63it/s]\n",
      "100%|██████████| 452/452 [01:04<00:00,  7.06it/s]\n",
      "100%|██████████| 452/452 [00:54<00:00,  8.28it/s]\n",
      "100%|██████████| 87/87 [00:11<00:00,  7.26it/s]\n",
      "100%|██████████| 87/87 [00:09<00:00,  8.70it/s]\n",
      "100%|██████████| 421/421 [00:47<00:00,  8.79it/s]\n",
      "100%|██████████| 421/421 [00:40<00:00, 10.29it/s]\n",
      "100%|██████████| 53/53 [00:07<00:00,  7.51it/s]\n",
      "100%|██████████| 53/53 [00:05<00:00,  8.91it/s]\n",
      "100%|██████████| 1644/1644 [04:46<00:00,  5.73it/s]\n",
      "100%|██████████| 1644/1644 [04:27<00:00,  6.14it/s]\n"
     ]
    },
    {
     "data": {
      "text/plain": [
       "'0,53 0,37 0,86 0,47 0,89 0,96 0,75 0,71 0,62 0,68'"
      ]
     },
     "execution_count": 11,
     "metadata": {},
     "output_type": "execute_result"
    }
   ],
   "source": [
    "res = all_evaluations(hs_model)\n",
    "print_res_table(res)"
   ]
  },
  {
   "cell_type": "code",
   "execution_count": null,
   "metadata": {},
   "outputs": [],
   "source": []
  },
  {
   "attachments": {},
   "cell_type": "markdown",
   "metadata": {},
   "source": [
    "## COMBINED PATTERNS"
   ]
  },
  {
   "cell_type": "code",
   "execution_count": 8,
   "metadata": {},
   "outputs": [
    {
     "name": "stderr",
     "output_type": "stream",
     "text": [
      "C:\\Users\\1\\AppData\\Local\\Temp\\ipykernel_17336\\2029049499.py:2: DeprecationWarning: Call to deprecated `load_fasttext_format` (use load_facebook_vectors (to use pretrained embeddings) or load_facebook_model (to continue training with the loaded full model, more RAM) instead).\n",
      "  ft = gensim.models.FastText.load_fasttext_format(ft_model_name)\n"
     ]
    }
   ],
   "source": [
    "ft_model_name = r'D:\\WorkFolder\\emb\\cc.en.300.bin'\n",
    "ft = gensim.models.FastText.load_fasttext_format(ft_model_name)"
   ]
  },
  {
   "cell_type": "code",
   "execution_count": 37,
   "metadata": {},
   "outputs": [],
   "source": [
    "ft = gensim.models.KeyedVectors.load_word2vec_format('ft_wn_eval_06_06_23.wv')"
   ]
  },
  {
   "cell_type": "code",
   "execution_count": 39,
   "metadata": {},
   "outputs": [
    {
     "name": "stderr",
     "output_type": "stream",
     "text": [
      "100%|██████████| 46973/46973 [06:13<00:00, 125.82it/s]\n"
     ]
    }
   ],
   "source": [
    "w2cands = {}\n",
    "for w in tqdm(vocab):\n",
    "    w2cands[w] = ft.most_similar(w, topn=100)"
   ]
  },
  {
   "cell_type": "code",
   "execution_count": 40,
   "metadata": {},
   "outputs": [
    {
     "data": {
      "text/plain": [
       "[('alligator', 0.7467529773712158),\n",
       " ('snake', 0.641427218914032),\n",
       " ('hippo', 0.6413436532020569),\n",
       " ('caiman', 0.6291424632072449),\n",
       " ('lizard', 0.6144946813583374),\n",
       " ('hippopotamus', 0.6114556789398193),\n",
       " ('reptile', 0.6088621020317078),\n",
       " ('crocodilian', 0.5975377559661865),\n",
       " ('gator', 0.5892565250396729),\n",
       " ('shark', 0.5836324095726013),\n",
       " ('hyena', 0.5558685660362244),\n",
       " ('tiger', 0.5501530766487122),\n",
       " ('giraffe', 0.5469062328338623),\n",
       " ('stingray', 0.5343039035797119),\n",
       " ('ostrich', 0.529415488243103),\n",
       " ('platypus', 0.5281539559364319),\n",
       " ('frog', 0.5281187295913696),\n",
       " ('turtle', 0.5272694230079651),\n",
       " ('baboon', 0.5234726071357727),\n",
       " ('kangaroo', 0.5205118656158447),\n",
       " ('piranha', 0.5126773118972778),\n",
       " ('iguana', 0.5126669406890869),\n",
       " ('scorpion', 0.5103745460510254),\n",
       " ('elephant', 0.5072616934776306),\n",
       " ('eel', 0.5052809715270996),\n",
       " ('sharks', 0.5039006471633911),\n",
       " ('gavial', 0.5017820596694946),\n",
       " ('panther', 0.5000379085540771),\n",
       " ('python', 0.4993168115615845),\n",
       " ('dolphin', 0.49754223227500916),\n",
       " ('piranhas', 0.49659910798072815),\n",
       " ('octopus', 0.4941665828227997),\n",
       " ('orangutan', 0.49128249287605286),\n",
       " ('buffalo', 0.48763394355773926),\n",
       " ('otter', 0.4872666597366333),\n",
       " ('tortoise', 0.4860788583755493),\n",
       " ('anaconda', 0.48474547266960144),\n",
       " ('fish', 0.4827735722064972),\n",
       " ('zebra', 0.4824748933315277),\n",
       " ('dragon', 0.48153647780418396),\n",
       " ('seahorse', 0.48101934790611267),\n",
       " ('leopard', 0.48030897974967957),\n",
       " ('orangutang', 0.4798673987388611),\n",
       " ('pelican', 0.4794873297214508),\n",
       " ('cobra', 0.4766142964363098),\n",
       " ('cheetah', 0.47644171118736267),\n",
       " ('monkey', 0.47590479254722595),\n",
       " ('toad', 0.47564104199409485),\n",
       " ('wallaby', 0.4746781885623932),\n",
       " ('rhinoceros', 0.4734141528606415),\n",
       " ('lion', 0.47195589542388916),\n",
       " ('dinosaur', 0.47131040692329407),\n",
       " ('camel', 0.47082844376564026),\n",
       " ('brontosaur', 0.47057145833969116),\n",
       " ('lungfish', 0.4688435196876526),\n",
       " ('anteater', 0.4681953489780426),\n",
       " ('reptilian', 0.4674972891807556),\n",
       " ('gorilla', 0.46744340658187866),\n",
       " ('lioness', 0.4669409692287445),\n",
       " ('peccary', 0.4626117944717407),\n",
       " ('serpent', 0.46134042739868164),\n",
       " ('tarantula', 0.46064525842666626),\n",
       " ('dugong', 0.46053609251976013),\n",
       " ('wolf', 0.4603171646595001),\n",
       " ('ape', 0.45971083641052246),\n",
       " ('pig', 0.45924991369247437),\n",
       " ('mongoose', 0.45746976137161255),\n",
       " ('man-eater', 0.45609501004219055),\n",
       " ('jackal', 0.45590803027153015),\n",
       " ('rattlesnake', 0.45477449893951416),\n",
       " ('rhino', 0.4539908170700073),\n",
       " ('porcupine', 0.45275935530662537),\n",
       " ('gharial', 0.4515746831893921),\n",
       " ('animal', 0.45102575421333313),\n",
       " ('turtles', 0.44859352707862854),\n",
       " ('chimpanzee', 0.4477282166481018),\n",
       " ('stonefish', 0.4474714398384094),\n",
       " ('tyrannosaur', 0.4472174346446991),\n",
       " ('jaguar', 0.4455481767654419),\n",
       " ('white-lipped', 0.4455472528934479),\n",
       " ('boomslang', 0.4449589252471924),\n",
       " ('chameleon', 0.4442034363746643),\n",
       " ('mugger', 0.4437037706375122),\n",
       " ('capybara', 0.44256943464279175),\n",
       " ('bichir', 0.4423254132270813),\n",
       " ('chevrotain', 0.44225576519966125),\n",
       " ('brontosaurus', 0.4418077766895294),\n",
       " ('mink', 0.44109535217285156),\n",
       " ('barramundi', 0.4408973455429077),\n",
       " ('mummy', 0.440893292427063),\n",
       " ('chimp', 0.44086989760398865),\n",
       " ('dingo', 0.44081705808639526),\n",
       " ('catfish', 0.4404917061328888),\n",
       " ('mocassin', 0.4402516186237335),\n",
       " ('pterodactyl', 0.44002312421798706),\n",
       " ('pachyderm', 0.43935495615005493),\n",
       " ('walrus', 0.43804359436035156),\n",
       " ('warthog', 0.43706175684928894),\n",
       " ('tigers', 0.4369353652000427),\n",
       " ('duck', 0.43683820962905884)]"
      ]
     },
     "execution_count": 40,
     "metadata": {},
     "output_type": "execute_result"
    }
   ],
   "source": [
    "w2cands['crocodile']"
   ]
  },
  {
   "cell_type": "code",
   "execution_count": 41,
   "metadata": {},
   "outputs": [
    {
     "data": {
      "text/plain": [
       "[('gator', 0.7823737263679504),\n",
       " ('crocodile', 0.746752917766571),\n",
       " ('caiman', 0.5879793167114258),\n",
       " ('reptile', 0.5848178267478943),\n",
       " ('snake', 0.5767461657524109),\n",
       " ('lizard', 0.5667709708213806),\n",
       " ('crocodilian', 0.5635765790939331),\n",
       " ('iguana', 0.5620105266571045),\n",
       " ('hippo', 0.5540482401847839),\n",
       " ('turtle', 0.5400021076202393),\n",
       " ('shark', 0.5371209383010864),\n",
       " ('frog', 0.5365213751792908),\n",
       " ('rattlesnake', 0.5361799001693726),\n",
       " ('stingray', 0.5354768633842468),\n",
       " ('giraffe', 0.5335032939910889),\n",
       " ('catfish', 0.5294216275215149),\n",
       " ('panther', 0.5294082164764404),\n",
       " ('manatee', 0.5258815288543701),\n",
       " ('octopus', 0.5207601189613342),\n",
       " ('hippopotamus', 0.5203745365142822),\n",
       " ('nutria', 0.520204484462738),\n",
       " ('armadillo', 0.5197222232818604),\n",
       " ('cottonmouth', 0.5195431113243103),\n",
       " ('ostrich', 0.5182366371154785),\n",
       " ('tarantula', 0.5140571594238281),\n",
       " ('eel', 0.5093511939048767),\n",
       " ('blacksnake', 0.509261965751648),\n",
       " ('raccoon', 0.504118800163269),\n",
       " ('opossum', 0.5039319396018982),\n",
       " ('pelican', 0.5023908019065857),\n",
       " ('bulldog', 0.49687179923057556),\n",
       " ('tiger', 0.4953377842903137),\n",
       " ('muskrat', 0.4940814971923828),\n",
       " ('toad', 0.492755264043808),\n",
       " ('porcupine', 0.4923323094844818),\n",
       " ('zebra', 0.48884156346321106),\n",
       " ('piranha', 0.48844853043556213),\n",
       " ('rhinoceros', 0.48668789863586426),\n",
       " ('orangutan', 0.4851084053516388),\n",
       " ('anteater', 0.4848342835903168),\n",
       " ('everglades', 0.48399263620376587),\n",
       " ('crawdad', 0.48233839869499207),\n",
       " ('gorilla', 0.47905418276786804),\n",
       " ('otter', 0.4777196943759918),\n",
       " ('amphibian', 0.47539055347442627),\n",
       " ('scorpion', 0.4747862219810486),\n",
       " ('critter', 0.47456616163253784),\n",
       " ('copperhead', 0.4734935462474823),\n",
       " ('terrapin', 0.47174111008644104),\n",
       " ('anaconda', 0.4691169559955597),\n",
       " ('turtles', 0.46402600407600403),\n",
       " ('fish', 0.4634362757205963),\n",
       " ('ape', 0.4625528156757355),\n",
       " ('elephant', 0.4625318944454193),\n",
       " ('platypus', 0.46210116147994995),\n",
       " ('squirrel', 0.4605536162853241),\n",
       " ('duck', 0.4604758024215698),\n",
       " ('lionfish', 0.45973336696624756),\n",
       " ('seahorse', 0.45734095573425293),\n",
       " ('animal', 0.4552597999572754),\n",
       " ('mocassin', 0.4547511339187622),\n",
       " ('pig', 0.4542587995529175),\n",
       " ('crayfish', 0.45360881090164185),\n",
       " ('apatosaurus', 0.4520677328109741),\n",
       " ('snakehead', 0.4518345892429352),\n",
       " ('python', 0.4516144096851349),\n",
       " ('rattlesnakes', 0.45099347829818726),\n",
       " ('dog-sized', 0.45027726888656616),\n",
       " ('dolphin', 0.4493321478366852),\n",
       " ('albino', 0.44915035367012024),\n",
       " ('lobster', 0.44853922724723816),\n",
       " ('sharks', 0.44657042622566223),\n",
       " ('sturgeon', 0.44621050357818604),\n",
       " ('salamander', 0.4458243250846863),\n",
       " ('crab', 0.4443263113498688),\n",
       " ('dinosaur', 0.44410884380340576),\n",
       " ('rattler', 0.4429078698158264),\n",
       " ('brontosaurus', 0.4427865445613861),\n",
       " ('coyote', 0.44277524948120117),\n",
       " ('buffalo', 0.4427427351474762),\n",
       " ('bullfrog', 0.44183409214019775),\n",
       " ('capybara', 0.4412706792354584),\n",
       " ('ocelot', 0.44108888506889343),\n",
       " ('warthog', 0.4400148391723633),\n",
       " ('rhino', 0.4397822916507721),\n",
       " ('peccary', 0.43942317366600037),\n",
       " ('centipede', 0.4392871558666229),\n",
       " ('tortoise', 0.43836262822151184),\n",
       " ('mink', 0.43800145387649536),\n",
       " ('orangutang', 0.43542081117630005),\n",
       " ('kingsnake', 0.4353195130825043),\n",
       " ('cheetah', 0.4334760010242462),\n",
       " ('antelope', 0.4319625794887543),\n",
       " ('cobra', 0.4306463599205017),\n",
       " ('needlefish', 0.4298054277896881),\n",
       " ('kangaroo', 0.4293711185455322),\n",
       " ('possum', 0.429353803396225),\n",
       " ('baboon', 0.4290800392627716),\n",
       " ('gar', 0.42809396982192993),\n",
       " ('crawfish', 0.4280432164669037)]"
      ]
     },
     "execution_count": 41,
     "metadata": {},
     "output_type": "execute_result"
    }
   ],
   "source": [
    "w2cands['alligator']"
   ]
  },
  {
   "cell_type": "code",
   "execution_count": 43,
   "metadata": {},
   "outputs": [],
   "source": [
    "import json\n",
    "import codecs\n",
    "\n",
    "json.dump(w2cands, codecs.open('w2cands.json', 'w', 'utf-8'))"
   ]
  },
  {
   "cell_type": "code",
   "execution_count": 31,
   "metadata": {},
   "outputs": [
    {
     "data": {
      "text/plain": [
       "46973"
      ]
     },
     "execution_count": 31,
     "metadata": {},
     "output_type": "execute_result"
    }
   ],
   "source": [
    "total_vocab = set()\n",
    "total_vocab.update(vocab.keys())\n",
    "len(total_vocab)"
   ]
  },
  {
   "cell_type": "code",
   "execution_count": 32,
   "metadata": {},
   "outputs": [
    {
     "data": {
      "text/plain": [
       "True"
      ]
     },
     "execution_count": 32,
     "metadata": {},
     "output_type": "execute_result"
    }
   ],
   "source": [
    "'123'.isdigit()"
   ]
  },
  {
   "cell_type": "code",
   "execution_count": 33,
   "metadata": {},
   "outputs": [
    {
     "data": {
      "text/plain": [
       "177501"
      ]
     },
     "execution_count": 33,
     "metadata": {},
     "output_type": "execute_result"
    }
   ],
   "source": [
    "total_vocab.update([w for w in wn._lemma_pos_offset_map if not w.isdigit() and '.' not in w])\n",
    "len(total_vocab)"
   ]
  },
  {
   "cell_type": "code",
   "execution_count": 35,
   "metadata": {},
   "outputs": [
    {
     "name": "stderr",
     "output_type": "stream",
     "text": [
      "100%|██████████| 177501/177501 [00:02<00:00, 83338.89it/s]\n"
     ]
    }
   ],
   "source": [
    "w2v = {}\n",
    "for w in tqdm(total_vocab):\n",
    "    w2v[w] = ft.wv[w]"
   ]
  },
  {
   "cell_type": "code",
   "execution_count": 36,
   "metadata": {},
   "outputs": [
    {
     "name": "stderr",
     "output_type": "stream",
     "text": [
      "100%|██████████| 177501/177501 [00:23<00:00, 7449.51it/s]\n"
     ]
    }
   ],
   "source": [
    "import codecs\n",
    "def save_vectors(wv, wv_path):\n",
    "    with codecs.open(wv_path, 'w', 'utf-8') as file_descr:\n",
    "        wv_size = wv[list(wv.keys())[0]].shape[0]\n",
    "\n",
    "        nwords = len({w: wv[w] for w in wv if wv[w].shape[0] == wv_size})\n",
    "        file_descr.write(f'{nwords} {wv_size}')\n",
    "        for w in tqdm(wv):\n",
    "            if wv[w].shape[0] != wv_size:\n",
    "                continue\n",
    "            vector = ' '.join([str(val) for val in wv[w]])\n",
    "            file_descr.write(f'\\n{w} {vector}')\n",
    "\n",
    "\n",
    "save_vectors(w2v, 'ft_wn_eval_06_06_23.wv')\n"
   ]
  },
  {
   "attachments": {},
   "cell_type": "markdown",
   "metadata": {},
   "source": [
    "### preprocessing candidates 1"
   ]
  },
  {
   "cell_type": "code",
   "execution_count": 56,
   "metadata": {},
   "outputs": [
    {
     "name": "stderr",
     "output_type": "stream",
     "text": [
      "100%|██████████| 46973/46973 [00:06<00:00, 7033.99it/s] \n"
     ]
    }
   ],
   "source": [
    "w2cands_f = {}\n",
    "for w in tqdm(w2cands):\n",
    "    w2cands_f[w] = [[d[1], d[0]] for d in w2cands[w] if (d[0] not in w) and (w not in d[0]) and (levenshtein(w, d[0]) > (len(w) / 2))][:100]"
   ]
  },
  {
   "attachments": {},
   "cell_type": "markdown",
   "metadata": {},
   "source": [
    "### preprocessing candidates 2"
   ]
  },
  {
   "cell_type": "code",
   "execution_count": 57,
   "metadata": {},
   "outputs": [
    {
     "name": "stderr",
     "output_type": "stream",
     "text": [
      "100%|██████████| 46973/46973 [00:00<00:00, 49445.26it/s]\n"
     ]
    }
   ],
   "source": [
    "for w in tqdm(w2cands_f):\n",
    "    w2cands_f[w] = [d for d in w2cands_f[w] if '.' not in d[1] and d[1][0] != '-' and d[1][-1] != '-'][:100]"
   ]
  },
  {
   "attachments": {},
   "cell_type": "markdown",
   "metadata": {},
   "source": [
    "### preprocessing candidates 3"
   ]
  },
  {
   "cell_type": "code",
   "execution_count": 58,
   "metadata": {},
   "outputs": [
    {
     "name": "stderr",
     "output_type": "stream",
     "text": [
      "100%|██████████| 46973/46973 [00:37<00:00, 1251.19it/s]\n"
     ]
    }
   ],
   "source": [
    "for w in tqdm(w2cands_f):\n",
    "    w2cands_f[w] = [d for d in w2cands_f[w] if len(wn.synsets(d[1])) > 0][:100]"
   ]
  },
  {
   "cell_type": "code",
   "execution_count": 55,
   "metadata": {},
   "outputs": [
    {
     "data": {
      "text/plain": [
       "{}"
      ]
     },
     "execution_count": 55,
     "metadata": {},
     "output_type": "execute_result"
    }
   ],
   "source": [
    "w2cands_f"
   ]
  },
  {
   "attachments": {},
   "cell_type": "markdown",
   "metadata": {},
   "source": [
    "### candidates cohypo ranking"
   ]
  },
  {
   "cell_type": "code",
   "execution_count": 51,
   "metadata": {},
   "outputs": [],
   "source": [
    "patterns = ['<hypo> or <hyper>']\n",
    "cohypo_model = GPTHypernymySuiteModel(scorer, patterns, vocab)"
   ]
  },
  {
   "cell_type": "code",
   "execution_count": 54,
   "metadata": {},
   "outputs": [
    {
     "data": {
      "text/plain": [
       "0"
      ]
     },
     "execution_count": 54,
     "metadata": {},
     "output_type": "execute_result"
    }
   ],
   "source": [
    "len(w2cands_f)"
   ]
  },
  {
   "cell_type": "code",
   "execution_count": 53,
   "metadata": {},
   "outputs": [
    {
     "name": "stderr",
     "output_type": "stream",
     "text": [
      "0it [00:00, ?it/s]\n"
     ]
    }
   ],
   "source": [
    "#w2cands_f = {}\n",
    "max_l = 100\n",
    "for w in tqdm(w2cands_f):\n",
    "    l = min(len(w2cands_f[w]), max_l)\n",
    "    scores = cohypo_model.predict_many([w for i in range(l)], [d[1] for d in w2cands_f[w][:l]])\n",
    "    w2cands_f[w] = sorted([[scores[i], w2cands_f[w][i][1]] for i in range(l)], key=lambda x: -x[0])"
   ]
  },
  {
   "cell_type": "code",
   "execution_count": null,
   "metadata": {},
   "outputs": [],
   "source": [
    "topk = 3\n",
    "word2cohypos = {w: [d[1] for d in w2cands_f2[w][:topk]] for w in w2cands_f2}\n",
    "word2cohypos"
   ]
  },
  {
   "cell_type": "code",
   "execution_count": null,
   "metadata": {},
   "outputs": [],
   "source": []
  }
 ],
 "metadata": {
  "kernelspec": {
   "display_name": "mtikhomi",
   "language": "python",
   "name": "python3"
  },
  "language_info": {
   "codemirror_mode": {
    "name": "ipython",
    "version": 3
   },
   "file_extension": ".py",
   "mimetype": "text/x-python",
   "name": "python",
   "nbconvert_exporter": "python",
   "pygments_lexer": "ipython3",
   "version": "3.8.8"
  },
  "orig_nbformat": 4
 },
 "nbformat": 4,
 "nbformat_minor": 2
}
